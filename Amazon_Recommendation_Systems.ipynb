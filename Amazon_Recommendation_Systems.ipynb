{
  "nbformat": 4,
  "nbformat_minor": 0,
  "metadata": {
    "accelerator": "GPU",
    "colab": {
      "name": "Amazon_Recommendation_Systems.ipynb",
      "provenance": [],
      "collapsed_sections": [],
      "authorship_tag": "ABX9TyNWp7Ez1HDJgmrUKBIrHAJm",
      "include_colab_link": true
    },
    "kernelspec": {
      "display_name": "Python 3",
      "name": "python3"
    },
    "language_info": {
      "name": "python"
    }
  },
  "cells": [
    {
      "cell_type": "markdown",
      "metadata": {
        "id": "view-in-github",
        "colab_type": "text"
      },
      "source": [
        "<a href=\"https://colab.research.google.com/github/bbouya/MIT_Amazon_recommendation_Product/blob/main/Amazon_Recommendation_Systems.ipynb\" target=\"_parent\"><img src=\"https://colab.research.google.com/assets/colab-badge.svg\" alt=\"Open In Colab\"/></a>"
      ]
    },
    {
      "cell_type": "markdown",
      "metadata": {
        "id": "WJFKFNTKN-CH"
      },
      "source": [
        "## **Project Recommendation Systems**\n",
        "# Context : \n",
        "\n",
        "Online E-commerce website like Amazon, Flipkart uses different recommendation models to provide different suggestions to different users. Amazon currently uses item-to-item collaborative filtering. which scales to massive data sets and produces hight-quality recommendations in real-time.\n",
        "\n",
        "## Objective:\n",
        "Build a recommendation system to recommend products to customers based on the their previous ratings for other products.\n",
        "\n",
        "## Dataset Atrributes \n",
        "\n",
        "\n",
        "\n",
        "*   USER_ID : Every user identified with a unique id.\n",
        "*   product_ID : Every product identified with a unique id.\n",
        "*   Rating\n",
        "*   Timestamp : Time of the rating (ignore this column for this exe)\n",
        "\n",
        "\n",
        "\n",
        "\n",
        "\n",
        "\n"
      ]
    },
    {
      "cell_type": "code",
      "metadata": {
        "id": "ID6F9LbcN063"
      },
      "source": [
        "import numpy as np\n",
        "import pandas as pd\n",
        "import math\n",
        "import json\n",
        "import time\n",
        "import matplotlib.pyplot as plt\n",
        "import seaborn as sns\n",
        "\n",
        "from sklearn.metrics.pairwise import cosine_similarity\n",
        "from sklearn.model_selection import train_test_split\n",
        "from sklearn.neighbors import NearestNeighbors\n",
        "\n",
        "import scipy.sparse \n",
        "from scipy.sparse import csr_matrix\n",
        "import warnings; warnings.simplefilter('ignore')\n",
        "\n",
        "%matplotlib inline"
      ],
      "execution_count": 9,
      "outputs": []
    },
    {
      "cell_type": "code",
      "metadata": {
        "id": "KhDSPkJoTPJs"
      },
      "source": [
        "#Read and import the data set\n",
        "df = pd.read_csv('/content/sample_data/ratings_Electronics.csv', header =None)\n",
        "df.columns = ['user_id','prod_id','rating','prod_name']\n",
        "df = df.drop('prod_name', axis = 1)\n",
        "df_copy = df.copy(deep = True)\n"
      ],
      "execution_count": 10,
      "outputs": []
    },
    {
      "cell_type": "code",
      "metadata": {
        "colab": {
          "base_uri": "https://localhost:8080/"
        },
        "id": "I1Q6QKB2kc3A",
        "outputId": "f1e4bc2c-56f2-46b9-ca61-bd203809afe0"
      },
      "source": [
        "#See few rows of the dataset\n",
        "print(df.head())"
      ],
      "execution_count": 11,
      "outputs": [
        {
          "output_type": "stream",
          "name": "stdout",
          "text": [
            "          user_id     prod_id  rating\n",
            "0   AKM1MP6P0OYPR  0132793040     5.0\n",
            "1  A2CX7LUOHB2NDG  0321732944     5.0\n",
            "2  A2NWSAGRHCP8N5  0439886341     1.0\n",
            "3  A2WNBOD3WNDNKT  0439886341     3.0\n",
            "4  A1GI0U4ZRJA8WN  0439886341     1.0\n"
          ]
        }
      ]
    },
    {
      "cell_type": "code",
      "metadata": {
        "colab": {
          "base_uri": "https://localhost:8080/"
        },
        "id": "YbiJMT6UlInA",
        "outputId": "331c698e-f0f4-4b71-c857-2b5f034a2c26"
      },
      "source": [
        "#check the number of rows and columns in data\n",
        "rows, columns = df.shape\n",
        "print('No of rows : ',rows)\n",
        "print('No of column:', columns)"
      ],
      "execution_count": 12,
      "outputs": [
        {
          "output_type": "stream",
          "name": "stdout",
          "text": [
            "No of rows :  592494\n",
            "No of column: 3\n"
          ]
        }
      ]
    },
    {
      "cell_type": "code",
      "metadata": {
        "colab": {
          "base_uri": "https://localhost:8080/"
        },
        "id": "jUTyCglslegx",
        "outputId": "bccf7de0-7a8d-499d-e8ab-e5084b38e7f2"
      },
      "source": [
        "#check the data type\n",
        "df.dtypes"
      ],
      "execution_count": 15,
      "outputs": [
        {
          "output_type": "execute_result",
          "data": {
            "text/plain": [
              "user_id     object\n",
              "prod_id     object\n",
              "rating     float64\n",
              "dtype: object"
            ]
          },
          "metadata": {},
          "execution_count": 15
        }
      ]
    },
    {
      "cell_type": "code",
      "metadata": {
        "colab": {
          "base_uri": "https://localhost:8080/"
        },
        "id": "WsX7xrR5rCp_",
        "outputId": "777880bf-b7d0-4707-bc9c-b484edd48cd0"
      },
      "source": [
        "#check for missing values present\n",
        "print('number of missing values', df.isna().sum())"
      ],
      "execution_count": 17,
      "outputs": [
        {
          "output_type": "stream",
          "name": "stdout",
          "text": [
            "number of missing values user_id    0\n",
            "prod_id    1\n",
            "rating     1\n",
            "dtype: int64\n"
          ]
        }
      ]
    },
    {
      "cell_type": "code",
      "metadata": {
        "colab": {
          "base_uri": "https://localhost:8080/",
          "height": 369
        },
        "id": "2UNfVfzXrUWf",
        "outputId": "8926e0a7-4ee2-4eaf-8372-65b2c77e24e8"
      },
      "source": [
        "#lets check the rating distribution  of the ratings \n",
        "with sns.axes_style('white'):\n",
        "  g = sns.factorplot('rating', data = df, aspect = 2.0, kind = 'count')\n",
        "  g.set_ylabels(\"Total Number of ratings\")"
      ],
      "execution_count": 18,
      "outputs": [
        {
          "output_type": "display_data",
          "data": {
            "image/png": "[encoded data removed]",
            "text/plain": [
              "<Figure size 720x360 with 1 Axes>"
            ]
          },
          "metadata": {}
        }
      ]
    },
    {
      "cell_type": "code",
      "metadata": {
        "colab": {
          "base_uri": "https://localhost:8080/"
        },
        "id": "_RatFAtotBg1",
        "outputId": "44abb088-a344-400b-a6af-fea4c61aad3b"
      },
      "source": [
        "# Number of unique user id and product id in the data\n",
        "print('Number of unique USERS in RAW data = ', df['user_id'].nunique())\n",
        "print('Number of unique ITEMS in RAW data = ', df['prod_id'].nunique())"
      ],
      "execution_count": 20,
      "outputs": [
        {
          "output_type": "stream",
          "name": "stdout",
          "text": [
            "Number of unique USERS in RAW data =  471497\n",
            "Number of unique ITEMS in RAW data =  36409\n"
          ]
        }
      ]
    },
    {
      "cell_type": "code",
      "metadata": {
        "colab": {
          "base_uri": "https://localhost:8080/"
        },
        "id": "d6yL-w21t1V_",
        "outputId": "c8cf9082-3f98-438d-817e-00340d0b0de0"
      },
      "source": [
        "# Top 10 users based on rating \n",
        "most_rated = df.groupby('user_id').size().sort_values(ascending = False)[:10]\n",
        "most_rated"
      ],
      "execution_count": 22,
      "outputs": [
        {
          "output_type": "execute_result",
          "data": {
            "text/plain": [
              "user_id\n",
              "A5JLAU2ARJ0BO     343\n",
              "A231WM2Z2JL0U3    248\n",
              "A25HBO5V8S8SEA    161\n",
              "AKT8TGIT6VVZ5      94\n",
              "AT6CZDCP4TRGA      94\n",
              "A2B7BUH8834Y6M     91\n",
              "A11D1KHM7DVOQK     90\n",
              "A6FIAB28IS79       87\n",
              "A2AEZQ3DGBBLPR     79\n",
              "AGHZXQL9F94T9      66\n",
              "dtype: int64"
            ]
          },
          "metadata": {},
          "execution_count": 22
        }
      ]
    },
    {
      "cell_type": "markdown",
      "metadata": {
        "id": "VvJND9TQuZxD"
      },
      "source": [
        "### **Data Preparation as per Requirement on Number of minimum ratings**\n",
        "# Let s take a subset of dataset(by only keeping the users who have given 50 or more number of rating) to make the dataset less sparse and easy to work with.\n"
      ]
    },
    {
      "cell_type": "code",
      "metadata": {
        "id": "lxT_V6UluRiA"
      },
      "source": [
        "counts = df['user_id'].value_counts()\n",
        "df_final = df[df['user_id'].isin(counts[counts >= 50].index\n",
        "                                 )]"
      ],
      "execution_count": 25,
      "outputs": []
    },
    {
      "cell_type": "code",
      "metadata": {
        "id": "bcJou7ZMvknv"
      },
      "source": [
        "print('The number d ')"
      ],
      "execution_count": null,
      "outputs": []
    }
  ]
}